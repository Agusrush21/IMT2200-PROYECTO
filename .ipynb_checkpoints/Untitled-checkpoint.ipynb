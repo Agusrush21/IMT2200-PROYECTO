{
 "cells": [
  {
   "cell_type": "markdown",
   "id": "bfcb65d8-d5fe-4d10-9117-f55777a14f74",
   "metadata": {},
   "source": [
    "rutas"
   ]
  },
  {
   "cell_type": "code",
   "execution_count": 1,
   "id": "629dd6f7-1d00-4d33-8b83-827b942ace58",
   "metadata": {},
   "outputs": [],
   "source": [
    "cuarto2023 = \"data/Simce 4° básico 2023/Archivos CSV (Planos)/\"\n",
    "cuarto2022 = \"data/Simce 4° básico 2022/Archivos CSV (Planos)/\""
   ]
  }
 ],
 "metadata": {
  "kernelspec": {
   "display_name": "Python 3 (ipykernel)",
   "language": "python",
   "name": "python3"
  },
  "language_info": {
   "codemirror_mode": {
    "name": "ipython",
    "version": 3
   },
   "file_extension": ".py",
   "mimetype": "text/x-python",
   "name": "python",
   "nbconvert_exporter": "python",
   "pygments_lexer": "ipython3",
   "version": "3.12.4"
  }
 },
 "nbformat": 4,
 "nbformat_minor": 5
}
