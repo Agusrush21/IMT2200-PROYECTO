{
 "cells": [
  {
   "cell_type": "markdown",
   "id": "64001dd7-3fa1-4914-8d78-2c9373396e54",
   "metadata": {},
   "source": [
    "# Trabajo Grupal Pregunta Numero 4\n",
    "\n",
    "## Los colegios cuicos les van mejor en el SIMCE\n",
    "Analizaremos si hay una relacion entre el tipo de colegio, si es subencionada, privado o estatal y sus puntajes generados.  \n",
    "Veremos el promedio de ambos cursos en el tiempo, primero en los años 2014, luego en el 2016 y finalmente 2019. Para luego comparalos en total. Que conste que son los mismos curso de la rendicion del SIMCE. Quiere decir que los estamos siguendo en el tiempo, para ver sumejora, aparte comparamos simpre los 4 basicos para una mayor fiadibilidad de datos.\n"
   ]
  },
  {
   "cell_type": "code",
   "execution_count": 33,
   "id": "75eb083c-027b-4f89-9744-cb366dbc5046",
   "metadata": {},
   "outputs": [],
   "source": [
    "# IMPORTS\n",
    "import pandas as pd\n",
    "import matplotlib.pyplot as plt"
   ]
  },
  {
   "cell_type": "markdown",
   "id": "6ab5ed45-1eb8-431f-a9f0-3417389ab458",
   "metadata": {},
   "source": [
    "### Datos del 2014, 4 Basico\n"
   ]
  },
  {
   "cell_type": "code",
   "execution_count": 37,
   "id": "a6e81113-5cbc-410f-a097-cd3ee2ce468c",
   "metadata": {},
   "outputs": [
    {
     "name": "stdout",
     "output_type": "stream",
     "text": [
      "data/2014/simce4b2014_rbd_publica_final.xlsx\n",
      "----------------------------------------------------------------------------------------------------\n"
     ]
    },
    {
     "data": {
      "text/html": [
       "<div>\n",
       "<style scoped>\n",
       "    .dataframe tbody tr th:only-of-type {\n",
       "        vertical-align: middle;\n",
       "    }\n",
       "\n",
       "    .dataframe tbody tr th {\n",
       "        vertical-align: top;\n",
       "    }\n",
       "\n",
       "    .dataframe thead th {\n",
       "        text-align: right;\n",
       "    }\n",
       "</style>\n",
       "<table border=\"1\" class=\"dataframe\">\n",
       "  <thead>\n",
       "    <tr style=\"text-align: right;\">\n",
       "      <th></th>\n",
       "      <th>cod_grupo</th>\n",
       "      <th>prom_lect4b_rbd</th>\n",
       "      <th>prom_mate4b_rbd</th>\n",
       "    </tr>\n",
       "  </thead>\n",
       "  <tbody>\n",
       "    <tr>\n",
       "      <th>0</th>\n",
       "      <td>Medio</td>\n",
       "      <td>274.0</td>\n",
       "      <td>262.0</td>\n",
       "    </tr>\n",
       "    <tr>\n",
       "      <th>1</th>\n",
       "      <td>Medio</td>\n",
       "      <td>255.0</td>\n",
       "      <td>239.0</td>\n",
       "    </tr>\n",
       "    <tr>\n",
       "      <th>2</th>\n",
       "      <td>Medio</td>\n",
       "      <td>261.0</td>\n",
       "      <td>250.0</td>\n",
       "    </tr>\n",
       "    <tr>\n",
       "      <th>3</th>\n",
       "      <td>Medio</td>\n",
       "      <td>234.0</td>\n",
       "      <td>207.0</td>\n",
       "    </tr>\n",
       "    <tr>\n",
       "      <th>4</th>\n",
       "      <td>Bajo</td>\n",
       "      <td>284.0</td>\n",
       "      <td>270.0</td>\n",
       "    </tr>\n",
       "  </tbody>\n",
       "</table>\n",
       "</div>"
      ],
      "text/plain": [
       "  cod_grupo  prom_lect4b_rbd  prom_mate4b_rbd\n",
       "0     Medio            274.0            262.0\n",
       "1     Medio            255.0            239.0\n",
       "2     Medio            261.0            250.0\n",
       "3     Medio            234.0            207.0\n",
       "4      Bajo            284.0            270.0"
      ]
     },
     "metadata": {},
     "output_type": "display_data"
    },
    {
     "name": "stdout",
     "output_type": "stream",
     "text": [
      "----------------------------------------------------------------------------------------------------\n",
      "El promedio en el nivel --Bajo-- fue de 230.854846566001 en matematicas y 246.51727493917275 en lenguaje\n",
      "El promedio en el nivel --Medio-- fue de 251.99805194805194 en matematicas y 262.4310793237971 en lenguaje\n",
      "El promedio en el nivel --Alto-- fue de 287.7401960784314 en matematicas y 291.6332518337408 en lenguaje\n",
      "----------------------------------------------------------------------------------------------------\n"
     ]
    }
   ],
   "source": [
    "print(\"data/2014/simce4b2014_rbd_publica_final.xlsx\")\n",
    "print(\"-\"*100)\n",
    "analizar2014 = pd.read_excel(\"data/2014/simce4b2014_rbd_publica_final.xlsx\")\n",
    "analizar2014 = analizar2014[[\"cod_grupo\", \"prom_lect4b_rbd\",\"prom_mate4b_rbd\" ]]\n",
    "display(analizar2014.head())\n",
    "print(\"-\"*100)\n",
    "\n",
    "\n",
    "for x in [\"Bajo\", \"Medio\", \"Alto\"]:\n",
    "    filtrado = analizar2014[analizar2014[\"cod_grupo\"] == x]\n",
    "    filtrado_matt= filtrado[\"prom_mate4b_rbd\"].mean()\n",
    "    filtrado_lenguaje= filtrado[\"prom_lect4b_rbd\"].mean()\n",
    "    print(f\"El promedio en el nivel --{x}-- fue de {filtrado_matt} en matematicas y {filtrado_lenguaje} en lenguaje\")\n",
    "print(\"-\"*100)\n"
   ]
  },
  {
   "cell_type": "code",
   "execution_count": 39,
   "id": "ed5f747d-11f9-46eb-aa35-a23c01cfec5c",
   "metadata": {},
   "outputs": [
    {
     "data": {
      "image/png": "[encoded data removed]",
      "text/plain": [
       "<Figure size 800x400 with 1 Axes>"
      ]
     },
     "metadata": {},
     "output_type": "display_data"
    }
   ],
   "source": [
    "promedios = {}\n",
    "for x in [\"Bajo\", \"Medio\", \"Alto\"]:\n",
    "    filtrado = analizar2014[analizar2014[\"cod_grupo\"] == x]\n",
    "    promedios[x] = {\n",
    "        \"Matemáticas\": filtrado[\"prom_mate4b_rbd\"].mean(),\n",
    "        \"Lenguaje\": filtrado[\"prom_lect4b_rbd\"].mean()\n",
    "    }\n",
    "df_promedios = pd.DataFrame(promedios).T\n",
    "\n",
    "df_promedios.plot(kind='bar', figsize=(8, 4))\n",
    "plt.title('Promedios de Matemáticas y Lenguaje por Grupo')\n",
    "plt.xlabel('Nivel')\n",
    "plt.ylabel('Promedio')\n",
    "plt.xticks(rotation=0)\n",
    "plt.legend(title='Asignatura')\n",
    "plt.grid(axis='y')\n",
    "\n",
    "\n",
    "plt.tight_layout()\n",
    "plt.show()"
   ]
  },
  {
   "cell_type": "markdown",
   "id": "c53ef699-ef42-4229-94ba-f6750d51c44e",
   "metadata": {},
   "source": [
    "### Datos del 2016, 4 y 6 Basico"
   ]
  },
  {
   "cell_type": "code",
   "execution_count": 41,
   "id": "743c688b-9b5f-412d-b9a9-5380c5b9921c",
   "metadata": {},
   "outputs": [
    {
     "name": "stdout",
     "output_type": "stream",
     "text": [
      "data/2016/simce4b2016_rbd_publica_final.xlsx\n",
      "----------------------------------------------------------------------------------------------------\n"
     ]
    },
    {
     "data": {
      "text/html": [
       "<div>\n",
       "<style scoped>\n",
       "    .dataframe tbody tr th:only-of-type {\n",
       "        vertical-align: middle;\n",
       "    }\n",
       "\n",
       "    .dataframe tbody tr th {\n",
       "        vertical-align: top;\n",
       "    }\n",
       "\n",
       "    .dataframe thead th {\n",
       "        text-align: right;\n",
       "    }\n",
       "</style>\n",
       "<table border=\"1\" class=\"dataframe\">\n",
       "  <thead>\n",
       "    <tr style=\"text-align: right;\">\n",
       "      <th></th>\n",
       "      <th>cod_grupo</th>\n",
       "      <th>prom_lect4b_rbd</th>\n",
       "      <th>prom_mate4b_rbd</th>\n",
       "    </tr>\n",
       "  </thead>\n",
       "  <tbody>\n",
       "    <tr>\n",
       "      <th>0</th>\n",
       "      <td>Medio</td>\n",
       "      <td>274.0</td>\n",
       "      <td>257.0</td>\n",
       "    </tr>\n",
       "    <tr>\n",
       "      <th>1</th>\n",
       "      <td>Medio bajo</td>\n",
       "      <td>271.0</td>\n",
       "      <td>259.0</td>\n",
       "    </tr>\n",
       "    <tr>\n",
       "      <th>2</th>\n",
       "      <td>Medio</td>\n",
       "      <td>291.0</td>\n",
       "      <td>298.0</td>\n",
       "    </tr>\n",
       "    <tr>\n",
       "      <th>3</th>\n",
       "      <td>Medio bajo</td>\n",
       "      <td>243.0</td>\n",
       "      <td>235.0</td>\n",
       "    </tr>\n",
       "    <tr>\n",
       "      <th>4</th>\n",
       "      <td>Medio bajo</td>\n",
       "      <td>257.0</td>\n",
       "      <td>236.0</td>\n",
       "    </tr>\n",
       "  </tbody>\n",
       "</table>\n",
       "</div>"
      ],
      "text/plain": [
       "    cod_grupo  prom_lect4b_rbd  prom_mate4b_rbd\n",
       "0       Medio            274.0            257.0\n",
       "1  Medio bajo            271.0            259.0\n",
       "2       Medio            291.0            298.0\n",
       "3  Medio bajo            243.0            235.0\n",
       "4  Medio bajo            257.0            236.0"
      ]
     },
     "metadata": {},
     "output_type": "display_data"
    },
    {
     "name": "stdout",
     "output_type": "stream",
     "text": [
      "----------------------------------------------------------------------------------------------------\n",
      "El promedio en el nivel --Bajo-- fue de 235.70483602001113 en matematicas y 251.98171745152354 en lenguaje\n",
      "El promedio en el nivel --Medio-- fue de 258.4502617801047 en matematicas y 264.9816753926702 en lenguaje\n",
      "El promedio en el nivel --Alto-- fue de 293.41927710843373 en matematicas y 296.40625 en lenguaje\n",
      "----------------------------------------------------------------------------------------------------\n"
     ]
    }
   ],
   "source": [
    "print(\"data/2016/simce4b2016_rbd_publica_final.xlsx\")\n",
    "print(\"-\"*100)\n",
    "analizar2016 = pd.read_excel(\"data/2016/simce4b2016_rbd_publica_final.xlsx\")\n",
    "analizar2016 = analizar2016[[\"cod_grupo\", \"prom_lect4b_rbd\",\"prom_mate4b_rbd\" ]]\n",
    "display(analizar2016.head())\n",
    "print(\"-\"*100)\n",
    "\n",
    "# FILTRAR\n",
    "for x in [\"Bajo\", \"Medio\", \"Alto\"]:\n",
    "    filtrado = analizar2016[analizar2016[\"cod_grupo\"] == x]\n",
    "    filtrado_matt= filtrado[\"prom_mate4b_rbd\"].mean()\n",
    "    filtrado_lenguaje= filtrado[\"prom_lect4b_rbd\"].mean()\n",
    "    print(f\"El promedio en el nivel --{x}-- fue de {filtrado_matt} en matematicas y {filtrado_lenguaje} en lenguaje\")\n",
    "print(\"-\"*100)\n"
   ]
  },
  {
   "cell_type": "code",
   "execution_count": 43,
   "id": "acfc6ede-c110-46fe-bb58-f288f546992d",
   "metadata": {},
   "outputs": [
    {
     "name": "stdout",
     "output_type": "stream",
     "text": [
      "data/2016/simce6b2016_rbd_publica_final.xlsx\n",
      "----------------------------------------------------------------------------------------------------\n"
     ]
    },
    {
     "data": {
      "text/html": [
       "<div>\n",
       "<style scoped>\n",
       "    .dataframe tbody tr th:only-of-type {\n",
       "        vertical-align: middle;\n",
       "    }\n",
       "\n",
       "    .dataframe tbody tr th {\n",
       "        vertical-align: top;\n",
       "    }\n",
       "\n",
       "    .dataframe thead th {\n",
       "        text-align: right;\n",
       "    }\n",
       "</style>\n",
       "<table border=\"1\" class=\"dataframe\">\n",
       "  <thead>\n",
       "    <tr style=\"text-align: right;\">\n",
       "      <th></th>\n",
       "      <th>cod_grupo</th>\n",
       "      <th>prom_lect6b_rbd</th>\n",
       "      <th>prom_mate6b_rbd</th>\n",
       "    </tr>\n",
       "  </thead>\n",
       "  <tbody>\n",
       "    <tr>\n",
       "      <th>0</th>\n",
       "      <td>Medio</td>\n",
       "      <td>266.0</td>\n",
       "      <td>259.0</td>\n",
       "    </tr>\n",
       "    <tr>\n",
       "      <th>1</th>\n",
       "      <td>Medio bajo</td>\n",
       "      <td>248.0</td>\n",
       "      <td>233.0</td>\n",
       "    </tr>\n",
       "    <tr>\n",
       "      <th>2</th>\n",
       "      <td>Medio</td>\n",
       "      <td>262.0</td>\n",
       "      <td>247.0</td>\n",
       "    </tr>\n",
       "    <tr>\n",
       "      <th>3</th>\n",
       "      <td>Medio</td>\n",
       "      <td>202.0</td>\n",
       "      <td>204.0</td>\n",
       "    </tr>\n",
       "    <tr>\n",
       "      <th>4</th>\n",
       "      <td>Medio bajo</td>\n",
       "      <td>237.0</td>\n",
       "      <td>214.0</td>\n",
       "    </tr>\n",
       "  </tbody>\n",
       "</table>\n",
       "</div>"
      ],
      "text/plain": [
       "    cod_grupo  prom_lect6b_rbd  prom_mate6b_rbd\n",
       "0       Medio            266.0            259.0\n",
       "1  Medio bajo            248.0            233.0\n",
       "2       Medio            262.0            247.0\n",
       "3       Medio            202.0            204.0\n",
       "4  Medio bajo            237.0            214.0"
      ]
     },
     "metadata": {},
     "output_type": "display_data"
    },
    {
     "name": "stdout",
     "output_type": "stream",
     "text": [
      "----------------------------------------------------------------------------------------------------\n",
      "El promedio en el nivel --Bajo-- fue de 227.03287380699894 en matematicas y 236.9720464135021 en lenguaje\n",
      "El promedio en el nivel --Medio-- fue de 248.63288590604026 en matematicas y 247.71793149764943 en lenguaje\n",
      "El promedio en el nivel --Alto-- fue de 290.95497630331755 en matematicas y 277.48578199052133 en lenguaje\n",
      "----------------------------------------------------------------------------------------------------\n"
     ]
    }
   ],
   "source": [
    "print(\"data/2016/simce6b2016_rbd_publica_final.xlsx\")\n",
    "print(\"-\"*100)\n",
    "analizar2016 = pd.read_excel(\"data/2016/simce6b2016_rbd_publica_final.xlsx\")\n",
    "analizar2016 = analizar2016[[\"cod_grupo\", \"prom_lect6b_rbd\",\"prom_mate6b_rbd\" ]]\n",
    "display(analizar2016.head())\n",
    "print(\"-\"*100)\n",
    "\n",
    "# FILTRAR\n",
    "for x in [\"Bajo\", \"Medio\", \"Alto\"]:\n",
    "    filtrado = analizar2016[analizar2016[\"cod_grupo\"] == x]\n",
    "    filtrado_matt= filtrado[\"prom_mate6b_rbd\"].mean()\n",
    "    filtrado_lenguaje= filtrado[\"prom_lect6b_rbd\"].mean()\n",
    "    print(f\"El promedio en el nivel --{x}-- fue de {filtrado_matt} en matematicas y {filtrado_lenguaje} en lenguaje\")\n",
    "print(\"-\"*100)\n",
    "\n",
    "\n"
   ]
  },
  {
   "cell_type": "code",
   "execution_count": 53,
   "id": "3e0699b7-cf61-4f80-9011-5fcb52319f4c",
   "metadata": {},
   "outputs": [
    {
     "data": {
      "image/png": "[encoded data removed]",
      "text/plain": [
       "<Figure size 800x400 with 1 Axes>"
      ]
     },
     "metadata": {},
     "output_type": "display_data"
    }
   ],
   "source": [
    "promedios = {}\n",
    "for x in [\"Bajo\", \"Medio\", \"Alto\"]:\n",
    "    filtrado = analizar2014[analizar2014[\"cod_grupo\"] == x]\n",
    "    promedios[x] = {\n",
    "        \"Matemáticas\": filtrado[\"prom_mate4b_rbd\"].mean(),\n",
    "        \"Lenguaje\": filtrado[\"prom_lect4b_rbd\"].mean()\n",
    "    }\n",
    "\n",
    "df_promedios = pd.DataFrame(promedios).T\n",
    "\n",
    "df_promedios.plot(kind='bar', figsize=(8, 4))\n",
    "plt.title('Promedios de Matemáticas y Lenguaje por Grupo')\n",
    "plt.xlabel('Nivel')\n",
    "plt.ylabel('Promedio')\n",
    "plt.xticks(rotation=0)\n",
    "plt.legend(title='Asignatura')\n",
    "plt.grid(axis='y')\n",
    "plt.tight_layout()\n",
    "plt.show()\n"
   ]
  },
  {
   "cell_type": "markdown",
   "id": "31e54788-112f-4e4a-a60a-f3509dc35ec1",
   "metadata": {},
   "source": [
    "### Datos del 2019, 8 Basico"
   ]
  },
  {
   "cell_type": "code",
   "execution_count": 55,
   "id": "80e0f6f2-e198-49d1-bcc1-947d16494569",
   "metadata": {},
   "outputs": [
    {
     "name": "stdout",
     "output_type": "stream",
     "text": [
      "data/2019/simce8b2019_rbd.xlsx\n",
      "----------------------------------------------------------------------------------------------------\n"
     ]
    },
    {
     "data": {
      "text/html": [
       "<div>\n",
       "<style scoped>\n",
       "    .dataframe tbody tr th:only-of-type {\n",
       "        vertical-align: middle;\n",
       "    }\n",
       "\n",
       "    .dataframe tbody tr th {\n",
       "        vertical-align: top;\n",
       "    }\n",
       "\n",
       "    .dataframe thead th {\n",
       "        text-align: right;\n",
       "    }\n",
       "</style>\n",
       "<table border=\"1\" class=\"dataframe\">\n",
       "  <thead>\n",
       "    <tr style=\"text-align: right;\">\n",
       "      <th></th>\n",
       "      <th>cod_grupo</th>\n",
       "      <th>prom_lect8b_rbd</th>\n",
       "      <th>prom_mate8b_rbd</th>\n",
       "    </tr>\n",
       "  </thead>\n",
       "  <tbody>\n",
       "    <tr>\n",
       "      <th>0</th>\n",
       "      <td>3.0</td>\n",
       "      <td>260.0</td>\n",
       "      <td>272.0</td>\n",
       "    </tr>\n",
       "    <tr>\n",
       "      <th>1</th>\n",
       "      <td>3.0</td>\n",
       "      <td>249.0</td>\n",
       "      <td>259.0</td>\n",
       "    </tr>\n",
       "    <tr>\n",
       "      <th>2</th>\n",
       "      <td>3.0</td>\n",
       "      <td>249.0</td>\n",
       "      <td>275.0</td>\n",
       "    </tr>\n",
       "    <tr>\n",
       "      <th>3</th>\n",
       "      <td>3.0</td>\n",
       "      <td>243.0</td>\n",
       "      <td>245.0</td>\n",
       "    </tr>\n",
       "    <tr>\n",
       "      <th>4</th>\n",
       "      <td>2.0</td>\n",
       "      <td>201.0</td>\n",
       "      <td>218.0</td>\n",
       "    </tr>\n",
       "  </tbody>\n",
       "</table>\n",
       "</div>"
      ],
      "text/plain": [
       "   cod_grupo  prom_lect8b_rbd  prom_mate8b_rbd\n",
       "0        3.0            260.0            272.0\n",
       "1        3.0            249.0            259.0\n",
       "2        3.0            249.0            275.0\n",
       "3        3.0            243.0            245.0\n",
       "4        2.0            201.0            218.0"
      ]
     },
     "metadata": {},
     "output_type": "display_data"
    },
    {
     "name": "stdout",
     "output_type": "stream",
     "text": [
      "----------------------------------------------------------------------------------------------------\n",
      "El promedio en el nivel --1.0-- fue de 234.56357388316152 en matematicas y 224.69897084048029 en lenguaje\n",
      "El promedio en el nivel --2.0-- fue de 243.03680981595093 en matematicas y 227.31132075471697 en lenguaje\n",
      "El promedio en el nivel --3.0-- fue de 258.8744507219084 en matematicas y 239.82172002510987 en lenguaje\n",
      "----------------------------------------------------------------------------------------------------\n"
     ]
    }
   ],
   "source": [
    "print(\"data/2019/simce8b2019_rbd.xlsx\")\n",
    "print(\"-\"*100)\n",
    "analizar2019 = pd.read_excel(\"data/2019/simce8b2019_rbd.xlsx\")\n",
    "\n",
    "analizar2019 = analizar2019[[\"cod_grupo\", \"prom_lect8b_rbd\",\"prom_mate8b_rbd\" ]]\n",
    "display(analizar2019.head())\n",
    "print(\"-\"*100)\n",
    "\n",
    "# FILTRAR\n",
    "for x in [1.0, 2.0, 3.0]:\n",
    "    filtrado = analizar2019[analizar2019[\"cod_grupo\"] == x]\n",
    "    filtrado_matt= filtrado[\"prom_mate8b_rbd\"].mean()\n",
    "    filtrado_lenguaje= filtrado[\"prom_lect8b_rbd\"].mean()\n",
    "    print(f\"El promedio en el nivel --{x}-- fue de {filtrado_matt} en matematicas y {filtrado_lenguaje} en lenguaje\")\n",
    "print(\"-\"*100)"
   ]
  },
  {
   "cell_type": "markdown",
   "id": "ab4676d3-5d4e-4fef-b4f0-f6d151b3cf9a",
   "metadata": {},
   "source": [
    "### Datos del 2022, 4 Basico y II Medio"
   ]
  },
  {
   "cell_type": "code",
   "execution_count": 57,
   "id": "cde00cbb-fe3d-4d17-8ace-f3165b90f3ad",
   "metadata": {},
   "outputs": [
    {
     "name": "stdout",
     "output_type": "stream",
     "text": [
      "data/2022/Simce4b2022_rbd_final.xlsx\n",
      "----------------------------------------------------------------------------------------------------\n"
     ]
    },
    {
     "data": {
      "text/html": [
       "<div>\n",
       "<style scoped>\n",
       "    .dataframe tbody tr th:only-of-type {\n",
       "        vertical-align: middle;\n",
       "    }\n",
       "\n",
       "    .dataframe tbody tr th {\n",
       "        vertical-align: top;\n",
       "    }\n",
       "\n",
       "    .dataframe thead th {\n",
       "        text-align: right;\n",
       "    }\n",
       "</style>\n",
       "<table border=\"1\" class=\"dataframe\">\n",
       "  <thead>\n",
       "    <tr style=\"text-align: right;\">\n",
       "      <th></th>\n",
       "      <th>cod_grupo</th>\n",
       "      <th>prom_lect4b_rbd</th>\n",
       "      <th>prom_mate4b_rbd</th>\n",
       "    </tr>\n",
       "  </thead>\n",
       "  <tbody>\n",
       "    <tr>\n",
       "      <th>0</th>\n",
       "      <td>1.0</td>\n",
       "      <td>0.0</td>\n",
       "      <td>0.0</td>\n",
       "    </tr>\n",
       "    <tr>\n",
       "      <th>1</th>\n",
       "      <td>1.0</td>\n",
       "      <td>239.0</td>\n",
       "      <td>218.0</td>\n",
       "    </tr>\n",
       "    <tr>\n",
       "      <th>2</th>\n",
       "      <td>2.0</td>\n",
       "      <td>222.0</td>\n",
       "      <td>211.0</td>\n",
       "    </tr>\n",
       "    <tr>\n",
       "      <th>3</th>\n",
       "      <td>1.0</td>\n",
       "      <td>276.0</td>\n",
       "      <td>250.0</td>\n",
       "    </tr>\n",
       "    <tr>\n",
       "      <th>4</th>\n",
       "      <td>4.0</td>\n",
       "      <td>264.0</td>\n",
       "      <td>231.0</td>\n",
       "    </tr>\n",
       "  </tbody>\n",
       "</table>\n",
       "</div>"
      ],
      "text/plain": [
       "   cod_grupo  prom_lect4b_rbd  prom_mate4b_rbd\n",
       "0        1.0              0.0              0.0\n",
       "1        1.0            239.0            218.0\n",
       "2        2.0            222.0            211.0\n",
       "3        1.0            276.0            250.0\n",
       "4        4.0            264.0            231.0"
      ]
     },
     "metadata": {},
     "output_type": "display_data"
    },
    {
     "name": "stdout",
     "output_type": "stream",
     "text": [
      "----------------------------------------------------------------------------------------------------\n",
      "El promedio en el nivel --1.0-- fue de 186.32640787315472 en matematicas y 201.73853711790392 en lenguaje\n",
      "El promedio en el nivel --2.0-- fue de 226.01798410706817 en matematicas y 242.85213032581453 en lenguaje\n",
      "El promedio en el nivel --3.0-- fue de 239.20474777448072 en matematicas y 257.59655377302437 en lenguaje\n",
      "----------------------------------------------------------------------------------------------------\n"
     ]
    }
   ],
   "source": [
    "print(\"data/2022/Simce4b2022_rbd_final.xlsx\")\n",
    "print(\"-\"*100)\n",
    "analizar2022 = pd.read_excel(\"data/2022/Simce4b2022_rbd_final.xlsx\")\n",
    "\n",
    "analizar2022 = analizar2022[[\"cod_grupo\", \"prom_lect4b_rbd\",\"prom_mate4b_rbd\" ]]\n",
    "display(analizar2022.head())\n",
    "print(\"-\"*100)\n",
    "\n",
    "# FILTRAR\n",
    "for x in {1.0: \"Bajo\", 2.0: \"Medio\", 3.0: \"Alto\"}:\n",
    "    filtrado = analizar2022[analizar2022[\"cod_grupo\"] == x]\n",
    "    filtrado_matt= filtrado[\"prom_mate4b_rbd\"].mean()\n",
    "    filtrado_lenguaje= filtrado[\"prom_lect4b_rbd\"].mean()\n",
    "    print(f\"El promedio en el nivel --{x}-- fue de {filtrado_matt} en matematicas y {filtrado_lenguaje} en lenguaje\")\n",
    "print(\"-\"*100)"
   ]
  },
  {
   "cell_type": "code",
   "execution_count": 59,
   "id": "50df18fa-b3e5-4898-9192-accf830a3de0",
   "metadata": {},
   "outputs": [
    {
     "name": "stdout",
     "output_type": "stream",
     "text": [
      "data/2022/Simce2m2022_rbd_final.xlsx\n",
      "----------------------------------------------------------------------------------------------------\n"
     ]
    },
    {
     "data": {
      "text/html": [
       "<div>\n",
       "<style scoped>\n",
       "    .dataframe tbody tr th:only-of-type {\n",
       "        vertical-align: middle;\n",
       "    }\n",
       "\n",
       "    .dataframe tbody tr th {\n",
       "        vertical-align: top;\n",
       "    }\n",
       "\n",
       "    .dataframe thead th {\n",
       "        text-align: right;\n",
       "    }\n",
       "</style>\n",
       "<table border=\"1\" class=\"dataframe\">\n",
       "  <thead>\n",
       "    <tr style=\"text-align: right;\">\n",
       "      <th></th>\n",
       "      <th>cod_grupo</th>\n",
       "      <th>prom_lect2m_rbd</th>\n",
       "      <th>prom_mate2m_rbd</th>\n",
       "    </tr>\n",
       "  </thead>\n",
       "  <tbody>\n",
       "    <tr>\n",
       "      <th>0</th>\n",
       "      <td>1.0</td>\n",
       "      <td>218.0</td>\n",
       "      <td>242.0</td>\n",
       "    </tr>\n",
       "    <tr>\n",
       "      <th>1</th>\n",
       "      <td>3.0</td>\n",
       "      <td>230.0</td>\n",
       "      <td>232.0</td>\n",
       "    </tr>\n",
       "    <tr>\n",
       "      <th>2</th>\n",
       "      <td>3.0</td>\n",
       "      <td>254.0</td>\n",
       "      <td>271.0</td>\n",
       "    </tr>\n",
       "    <tr>\n",
       "      <th>3</th>\n",
       "      <td>3.0</td>\n",
       "      <td>250.0</td>\n",
       "      <td>286.0</td>\n",
       "    </tr>\n",
       "    <tr>\n",
       "      <th>4</th>\n",
       "      <td>2.0</td>\n",
       "      <td>221.0</td>\n",
       "      <td>227.0</td>\n",
       "    </tr>\n",
       "  </tbody>\n",
       "</table>\n",
       "</div>"
      ],
      "text/plain": [
       "   cod_grupo  prom_lect2m_rbd  prom_mate2m_rbd\n",
       "0        1.0            218.0            242.0\n",
       "1        3.0            230.0            232.0\n",
       "2        3.0            254.0            271.0\n",
       "3        3.0            250.0            286.0\n",
       "4        2.0            221.0            227.0"
      ]
     },
     "metadata": {},
     "output_type": "display_data"
    },
    {
     "name": "stdout",
     "output_type": "stream",
     "text": [
      "----------------------------------------------------------------------------------------------------\n",
      "El promedio en el nivel --1.0-- fue de 222.11818181818182 en matematicas y 222.3030303030303 en lenguaje\n",
      "El promedio en el nivel --2.0-- fue de 237.0698224852071 en matematicas y 235.08165680473374 en lenguaje\n",
      "El promedio en el nivel --3.0-- fue de 256.5 en matematicas y 250.95217391304348 en lenguaje\n",
      "----------------------------------------------------------------------------------------------------\n"
     ]
    }
   ],
   "source": [
    "print(\"data/2022/Simce2m2022_rbd_final.xlsx\")\n",
    "print(\"-\"*100)\n",
    "\n",
    "analizar2022 = pd.read_excel(\"data/2022/Simce2m2022_rbd_final.xlsx\")\n",
    "\n",
    "analizar2022 = analizar2022[[\"cod_grupo\", \"prom_lect2m_rbd\",\"prom_mate2m_rbd\" ]]\n",
    "display(analizar2022.head())\n",
    "print(\"-\"*100)\n",
    "# FILTRAR\n",
    "for x in {1.0: \"Bajo\", 2.0: \"Medio\", 3.0: \"Alto\"}:\n",
    "    filtrado = analizar2022[analizar2022[\"cod_grupo\"] == x]\n",
    "    filtrado_matt= filtrado[\"prom_mate2m_rbd\"].mean()\n",
    "    filtrado_lenguaje= filtrado[\"prom_lect2m_rbd\"].mean()\n",
    "    print(f\"El promedio en el nivel --{x}-- fue de {filtrado_matt} en matematicas y {filtrado_lenguaje} en lenguaje\")\n",
    "print(\"-\"*100)"
   ]
  },
  {
   "cell_type": "markdown",
   "id": "90819556-3db0-4dae-b337-5cb6b005df6a",
   "metadata": {},
   "source": [
    "## Conclusión\n",
    "\n",
    "\n",
    "\n",
    "\n"
   ]
  },
  {
   "cell_type": "markdown",
   "id": "b1c326dd-9c87-459c-8965-558c68c48203",
   "metadata": {},
   "source": [
    "En conclusion, hubo un gran diferencia entre los colegios de nivel bajo, medio y alto. Pero logramos que este diferencia se va a cortando con los años. Los puntajes en promedio son de 10 pts superior por categoria. Los de bajo tiene -10 que los medio y los altos tienen un +10 en puntaje, en promedio. Aunque cuando los alumnos son mas chico hay una diferencia mayor. "
   ]
  }
 ],
 "metadata": {
  "kernelspec": {
   "display_name": "Python 3 (ipykernel)",
   "language": "python",
   "name": "python3"
  },
  "language_info": {
   "codemirror_mode": {
    "name": "ipython",
    "version": 3
   },
   "file_extension": ".py",
   "mimetype": "text/x-python",
   "name": "python",
   "nbconvert_exporter": "python",
   "pygments_lexer": "ipython3",
   "version": "3.12.4"
  }
 },
 "nbformat": 4,
 "nbformat_minor": 5
}
