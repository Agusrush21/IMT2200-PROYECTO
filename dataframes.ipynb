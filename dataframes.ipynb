{
 "cells": [
  {
   "cell_type": "code",
   "execution_count": 1,
   "id": "a1f53aac-8745-4904-9573-01f19737d875",
   "metadata": {},
   "outputs": [],
   "source": [
    "import pandas as pd"
   ]
  },
  {
   "cell_type": "markdown",
   "id": "bfcb65d8-d5fe-4d10-9117-f55777a14f74",
   "metadata": {},
   "source": [
    "rutas"
   ]
  },
  {
   "cell_type": "code",
   "execution_count": 2,
   "id": "629dd6f7-1d00-4d33-8b83-827b942ace58",
   "metadata": {},
   "outputs": [],
   "source": [
    "cuarto2023 = \"data/Simce 4° básico 2023/Archivos CSV (Planos)/simce4b2023_rbd_público_final.csv\"\n",
    "cuarto2022 = \"data/Simce 4° básico 2022/Archivos CSV (Planos)/simce4b2022_rbd_final.csv\"\n",
    "# 2018 no ta en csv\n",
    "# aca añadir mas:"
   ]
  },
  {
   "cell_type": "markdown",
   "id": "e5b1798a-10cc-473f-897f-d8f86a1fda28",
   "metadata": {},
   "source": [
    "aqui vamo convirtiendo cada ruta"
   ]
  },
  {
   "cell_type": "code",
   "execution_count": 7,
   "id": "099a39bb-36af-4954-9807-34d5056c61a0",
   "metadata": {},
   "outputs": [
    {
     "data": {
      "text/html": [
       "<div>\n",
       "<style scoped>\n",
       "    .dataframe tbody tr th:only-of-type {\n",
       "        vertical-align: middle;\n",
       "    }\n",
       "\n",
       "    .dataframe tbody tr th {\n",
       "        vertical-align: top;\n",
       "    }\n",
       "\n",
       "    .dataframe thead th {\n",
       "        text-align: right;\n",
       "    }\n",
       "</style>\n",
       "<table border=\"1\" class=\"dataframe\">\n",
       "  <thead>\n",
       "    <tr style=\"text-align: right;\">\n",
       "      <th></th>\n",
       "      <th>rbd;dvrbd;nom_rbd;cod_reg_rbd;nom_reg_rbd;cod_pro_rbd;nom_pro_rbd;cod_com_rbd;nom_com_rbd;cod_deprov_rbd;nom_deprov_rbd;cod_depe1;cod_depe2;cod_grupo;cod_rural_rbd;nalu_lect4b_rbd;nalu_mate4b_rbd;prom_lect4b_rbd;prom_mate4b_rbd;dif_lect4b_rbd;dif_mate4b_rbd;difgru_lect4b_rbd;difgru_mate4b_rbd;sigdif_lect4b_rbd;sigdif_mate4b_rbd;siggru_lect4b_rbd;siggru_mate4b_rbd;marca_lect4b_rbd;marca_mate4b_rbd;marcadif_lect4b_rbd;marcadif_mate4b_rbd;palu_eda_ins_lect4b_rbd;palu_eda_ele_lect4b_rbd;palu_eda_ade_lect4b_rbd;palu_eda_ins_mate4b_rbd;palu_eda_ele_mate4b_rbd;palu_eda_ade_mate4b_rbd;noaplica;fecha_bbdd;codigo_bbdd;grado;agno</th>\n",
       "    </tr>\n",
       "  </thead>\n",
       "  <tbody>\n",
       "    <tr>\n",
       "      <th>0</th>\n",
       "      <td>11407;3;ESCUELA BASICA LOS OLIVOS;16;DE ÑUBLE;...</td>\n",
       "    </tr>\n",
       "    <tr>\n",
       "      <th>1</th>\n",
       "      <td>14324;3;COLEGIO WILLIAM JAMES;5;DE VALPARAÍSO;...</td>\n",
       "    </tr>\n",
       "    <tr>\n",
       "      <th>2</th>\n",
       "      <td>24403;1;COLEGIO SIMON BOLIVAR;13;METROPOLITANA...</td>\n",
       "    </tr>\n",
       "    <tr>\n",
       "      <th>3</th>\n",
       "      <td>2917;3;ESCUELA RAUCO;7;DEL MAULE;73;CURICÓ;730...</td>\n",
       "    </tr>\n",
       "    <tr>\n",
       "      <th>4</th>\n",
       "      <td>4506;3;ESCUELA HÉROES DE CHILE;8;DEL BIOBÍO;83...</td>\n",
       "    </tr>\n",
       "  </tbody>\n",
       "</table>\n",
       "</div>"
      ],
      "text/plain": [
       "  rbd;dvrbd;nom_rbd;cod_reg_rbd;nom_reg_rbd;cod_pro_rbd;nom_pro_rbd;cod_com_rbd;nom_com_rbd;cod_deprov_rbd;nom_deprov_rbd;cod_depe1;cod_depe2;cod_grupo;cod_rural_rbd;nalu_lect4b_rbd;nalu_mate4b_rbd;prom_lect4b_rbd;prom_mate4b_rbd;dif_lect4b_rbd;dif_mate4b_rbd;difgru_lect4b_rbd;difgru_mate4b_rbd;sigdif_lect4b_rbd;sigdif_mate4b_rbd;siggru_lect4b_rbd;siggru_mate4b_rbd;marca_lect4b_rbd;marca_mate4b_rbd;marcadif_lect4b_rbd;marcadif_mate4b_rbd;palu_eda_ins_lect4b_rbd;palu_eda_ele_lect4b_rbd;palu_eda_ade_lect4b_rbd;palu_eda_ins_mate4b_rbd;palu_eda_ele_mate4b_rbd;palu_eda_ade_mate4b_rbd;noaplica;fecha_bbdd;codigo_bbdd;grado;agno\n",
       "0  11407;3;ESCUELA BASICA LOS OLIVOS;16;DE ÑUBLE;...                                                                                                                                                                                                                                                                                                                                                                                                                                                                                                                                                                                                \n",
       "1  14324;3;COLEGIO WILLIAM JAMES;5;DE VALPARAÍSO;...                                                                                                                                                                                                                                                                                                                                                                                                                                                                                                                                                                                                \n",
       "2  24403;1;COLEGIO SIMON BOLIVAR;13;METROPOLITANA...                                                                                                                                                                                                                                                                                                                                                                                                                                                                                                                                                                                                \n",
       "3  2917;3;ESCUELA RAUCO;7;DEL MAULE;73;CURICÓ;730...                                                                                                                                                                                                                                                                                                                                                                                                                                                                                                                                                                                                \n",
       "4  4506;3;ESCUELA HÉROES DE CHILE;8;DEL BIOBÍO;83...                                                                                                                                                                                                                                                                                                                                                                                                                                                                                                                                                                                                "
      ]
     },
     "execution_count": 7,
     "metadata": {},
     "output_type": "execute_result"
    }
   ],
   "source": [
    "df = pd.read_csv(cuarto2023, encoding='ISO-8859-1', on_bad_lines='skip')\n",
    "df.head()\n",
    "\n",
    "# me lo imprime como las weas"
   ]
  },
  {
   "cell_type": "code",
   "execution_count": null,
   "id": "0d4cff8d-60c5-4b66-ad7e-62dfa2b58837",
   "metadata": {},
   "outputs": [],
   "source": []
  }
 ],
 "metadata": {
  "kernelspec": {
   "display_name": "Python 3 (ipykernel)",
   "language": "python",
   "name": "python3"
  },
  "language_info": {
   "codemirror_mode": {
    "name": "ipython",
    "version": 3
   },
   "file_extension": ".py",
   "mimetype": "text/x-python",
   "name": "python",
   "nbconvert_exporter": "python",
   "pygments_lexer": "ipython3",
   "version": "3.12.4"
  }
 },
 "nbformat": 4,
 "nbformat_minor": 5
}
