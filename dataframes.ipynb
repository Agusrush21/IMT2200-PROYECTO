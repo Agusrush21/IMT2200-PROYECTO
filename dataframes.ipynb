{
 "cells": [
  {
   "cell_type": "code",
   "execution_count": 1,
   "id": "a1f53aac-8745-4904-9573-01f19737d875",
   "metadata": {},
   "outputs": [],
   "source": [
    "import pandas as pd"
   ]
  },
  {
   "cell_type": "markdown",
   "id": "bfcb65d8-d5fe-4d10-9117-f55777a14f74",
   "metadata": {},
   "source": [
    "rutas"
   ]
  },
  {
   "cell_type": "code",
   "execution_count": 6,
   "id": "629dd6f7-1d00-4d33-8b83-827b942ace58",
   "metadata": {},
   "outputs": [],
   "source": [
    "cuarto2014 = \"data/2014/simce4b2014_rbd_publica_final.xlsx\"\n",
    "sexto2016 = \"data/2016/simce6b2016_rbd_publica_final.xlsx\"\n",
    "octavo2019 = 'data/2019/simce8b2019_rbd.xlsx'\n",
    "segundo2022 = \"data/2022/Simce2m2022_rbd_final.xlsx\""
   ]
  },
  {
   "cell_type": "markdown",
   "id": "e5b1798a-10cc-473f-897f-d8f86a1fda28",
   "metadata": {},
   "source": [
    "### IMPORTANTE\n",
    "Hay que ver manualmente cual es la separacion de cada csv (ej, el del primero es un \";\" y el del segundo es un \"|\", asi que no se puede usar el mismo codigo para todos)\n",
    "\n",
    "### FILAS RELEVANTES\n",
    "Vayamos dejando las filas de\n",
    "\n",
    "- nombre\n",
    "- vulnerabilidad\n",
    "- \"añadir otros aqui\""
   ]
  },
  {
   "cell_type": "code",
   "execution_count": 24,
   "id": "ff8d0a0b-382d-4bab-a940-4af0c2ebedf4",
   "metadata": {},
   "outputs": [],
   "source": [
    "# filtrado\n",
    "\n",
    "def filtrar(df):\n",
    "    filtrado = ['nom_rbd','cod_grupo','cod_rural_rbd','nom_reg_rbd','nom_com_rbd','nom_pro_rbd','cod_depe2']\n",
    "    return df[filtrado]\n",
    "\n",
    "# Promedio y diferencia no funciona con los datos del 2014 :("
   ]
  },
  {
   "cell_type": "code",
   "execution_count": 25,
   "id": "099a39bb-36af-4954-9807-34d5056c61a0",
   "metadata": {
    "scrolled": true
   },
   "outputs": [
    {
     "data": {
      "text/html": [
       "<div>\n",
       "<style scoped>\n",
       "    .dataframe tbody tr th:only-of-type {\n",
       "        vertical-align: middle;\n",
       "    }\n",
       "\n",
       "    .dataframe tbody tr th {\n",
       "        vertical-align: top;\n",
       "    }\n",
       "\n",
       "    .dataframe thead th {\n",
       "        text-align: right;\n",
       "    }\n",
       "</style>\n",
       "<table border=\"1\" class=\"dataframe\">\n",
       "  <thead>\n",
       "    <tr style=\"text-align: right;\">\n",
       "      <th></th>\n",
       "      <th>nom_rbd</th>\n",
       "      <th>cod_grupo</th>\n",
       "      <th>cod_rural_rbd</th>\n",
       "      <th>nom_reg_rbd</th>\n",
       "      <th>nom_com_rbd</th>\n",
       "      <th>nom_pro_rbd</th>\n",
       "      <th>cod_depe2</th>\n",
       "    </tr>\n",
       "  </thead>\n",
       "  <tbody>\n",
       "    <tr>\n",
       "      <th>0</th>\n",
       "      <td>JOVINA NARANJO FERNANDEZ</td>\n",
       "      <td>Medio</td>\n",
       "      <td>Urbano</td>\n",
       "      <td>REGIÓN ARICA - PARINACOTA</td>\n",
       "      <td>ARICA</td>\n",
       "      <td>ARICA</td>\n",
       "      <td>Municipal</td>\n",
       "    </tr>\n",
       "    <tr>\n",
       "      <th>1</th>\n",
       "      <td>COLEGIO INTEGRADO EDUARDO FREI MONTALVA</td>\n",
       "      <td>Medio</td>\n",
       "      <td>Urbano</td>\n",
       "      <td>REGIÓN ARICA - PARINACOTA</td>\n",
       "      <td>ARICA</td>\n",
       "      <td>ARICA</td>\n",
       "      <td>Municipal</td>\n",
       "    </tr>\n",
       "    <tr>\n",
       "      <th>2</th>\n",
       "      <td>ESCUELA REPUBLICA DE ISRAEL</td>\n",
       "      <td>Medio</td>\n",
       "      <td>Urbano</td>\n",
       "      <td>REGIÓN ARICA - PARINACOTA</td>\n",
       "      <td>ARICA</td>\n",
       "      <td>ARICA</td>\n",
       "      <td>Municipal</td>\n",
       "    </tr>\n",
       "    <tr>\n",
       "      <th>3</th>\n",
       "      <td>ESCUELA REPUBLICA DE FRANCIA</td>\n",
       "      <td>Medio</td>\n",
       "      <td>Urbano</td>\n",
       "      <td>REGIÓN ARICA - PARINACOTA</td>\n",
       "      <td>ARICA</td>\n",
       "      <td>ARICA</td>\n",
       "      <td>Municipal</td>\n",
       "    </tr>\n",
       "    <tr>\n",
       "      <th>4</th>\n",
       "      <td>ESC. GRAL. PEDRO LAGOS MARCHANT</td>\n",
       "      <td>Bajo</td>\n",
       "      <td>Urbano</td>\n",
       "      <td>REGIÓN ARICA - PARINACOTA</td>\n",
       "      <td>ARICA</td>\n",
       "      <td>ARICA</td>\n",
       "      <td>Municipal</td>\n",
       "    </tr>\n",
       "  </tbody>\n",
       "</table>\n",
       "</div>"
      ],
      "text/plain": [
       "                                   nom_rbd cod_grupo cod_rural_rbd  \\\n",
       "0                 JOVINA NARANJO FERNANDEZ     Medio        Urbano   \n",
       "1  COLEGIO INTEGRADO EDUARDO FREI MONTALVA     Medio        Urbano   \n",
       "2              ESCUELA REPUBLICA DE ISRAEL     Medio        Urbano   \n",
       "3             ESCUELA REPUBLICA DE FRANCIA     Medio        Urbano   \n",
       "4          ESC. GRAL. PEDRO LAGOS MARCHANT      Bajo        Urbano   \n",
       "\n",
       "                 nom_reg_rbd nom_com_rbd nom_pro_rbd  cod_depe2  \n",
       "0  REGIÓN ARICA - PARINACOTA       ARICA       ARICA  Municipal  \n",
       "1  REGIÓN ARICA - PARINACOTA       ARICA       ARICA  Municipal  \n",
       "2  REGIÓN ARICA - PARINACOTA       ARICA       ARICA  Municipal  \n",
       "3  REGIÓN ARICA - PARINACOTA       ARICA       ARICA  Municipal  \n",
       "4  REGIÓN ARICA - PARINACOTA       ARICA       ARICA  Municipal  "
      ]
     },
     "execution_count": 25,
     "metadata": {},
     "output_type": "execute_result"
    }
   ],
   "source": [
    "df14 = pd.read_excel(cuarto2014)\n",
    "df14 = filtrar(df14)\n",
    "df14.head()"
   ]
  },
  {
   "cell_type": "code",
   "execution_count": null,
   "id": "c1e1d311-2f07-4031-a7f8-ba7a85ada441",
   "metadata": {},
   "outputs": [],
   "source": []
  }
 ],
 "metadata": {
  "kernelspec": {
   "display_name": "Python 3 (ipykernel)",
   "language": "python",
   "name": "python3"
  },
  "language_info": {
   "codemirror_mode": {
    "name": "ipython",
    "version": 3
   },
   "file_extension": ".py",
   "mimetype": "text/x-python",
   "name": "python",
   "nbconvert_exporter": "python",
   "pygments_lexer": "ipython3",
   "version": "3.12.4"
  }
 },
 "nbformat": 4,
 "nbformat_minor": 5
}
